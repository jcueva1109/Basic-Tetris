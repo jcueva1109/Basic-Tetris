{
  "nbformat": 4,
  "nbformat_minor": 0,
  "metadata": {
    "colab": {
      "name": "NotebookS1.ipynb",
      "provenance": [],
      "collapsed_sections": [],
      "authorship_tag": "ABX9TyOhf52yUSBBVKoar+O5lqE3",
      "include_colab_link": true
    },
    "kernelspec": {
      "name": "python3",
      "display_name": "Python 3"
    }
  },
  "cells": [
    {
      "cell_type": "markdown",
      "metadata": {
        "id": "view-in-github",
        "colab_type": "text"
      },
      "source": [
        "<a href=\"https://colab.research.google.com/github/jcueva1109/Basic-Tetris/blob/master/S3_Notes.ipynb\" target=\"_parent\"><img src=\"https://colab.research.google.com/assets/colab-badge.svg\" alt=\"Open In Colab\"/></a>"
      ]
    },
    {
      "cell_type": "markdown",
      "metadata": {
        "id": "GAnCFMAWdDDh",
        "colab_type": "text"
      },
      "source": [
        "Definiciones"
      ]
    },
    {
      "cell_type": "code",
      "metadata": {
        "id": "eBccDDzmZKN5",
        "colab_type": "code",
        "colab": {}
      },
      "source": [
        " #Date: Martes 21/ Julio\n",
        " a es un elemento/ es una variable con un valor\n",
        " A es un conjunto/ es un conjunto de variables"
      ],
      "execution_count": null,
      "outputs": []
    },
    {
      "cell_type": "markdown",
      "metadata": {
        "id": "P4DZepY6enKS",
        "colab_type": "text"
      },
      "source": [
        "Ejemplos de conjuntos con valores"
      ]
    },
    {
      "cell_type": "code",
      "metadata": {
        "id": "2ILTO4PjeqWJ",
        "colab_type": "code",
        "colab": {}
      },
      "source": [
        "#Date Martes 21/ Julio\n",
        "a = 10                                                                          #Es un elemento\n",
        "\n",
        "A = {1,2,3,4}                                                                   #Es un conjunto\n",
        "B = {1,2}                                                                       #Es un conjunto\n",
        "C = \"hola\" * 3                                                                  #No es un conjunto\n",
        "D = {\"h\",\"o\",\"l\",\"a\"}                                                           #Es un conjunto\n",
        "x, y, z = \"rosado\", \"azul\", \"blanco\"                                            #No es un conjunto\n",
        "s = {True, 3.14, False, \"Hola Mundo!\"}                                          #Es un conjunto\n",
        "\n",
        "print(a)\n",
        "print(A)\n",
        "print(B)\n",
        "print(C)\n",
        "print(D)\n",
        "print(x+\"\\n\"+y+\"\\n\"+z)\n"
      ],
      "execution_count": null,
      "outputs": []
    },
    {
      "cell_type": "markdown",
      "metadata": {
        "id": "9EC3x-x6gupr",
        "colab_type": "text"
      },
      "source": [
        "Conjunto con 500,000 elementos"
      ]
    },
    {
      "cell_type": "code",
      "metadata": {
        "id": "_G5B5cwrgwo4",
        "colab_type": "code",
        "colab": {}
      },
      "source": [
        "#Date Martes 21/ Julio\n",
        "a = 10\n",
        "b = \"Arturo\"\n",
        "A = {a,b}\n",
        "\n",
        "elemento= '1'\n",
        "conjunto= [elemento] * 500000\n",
        "print(conjunto)"
      ],
      "execution_count": null,
      "outputs": []
    },
    {
      "cell_type": "markdown",
      "metadata": {
        "id": "zJCh1J5WiJmM",
        "colab_type": "text"
      },
      "source": [
        "Como saber si aϵA\n",
        "\n",
        "-> A = {a1, a2, a3, a4, a5, ... }\n"
      ]
    },
    {
      "cell_type": "code",
      "metadata": {
        "id": "YqdtcbmFiTUL",
        "colab_type": "code",
        "colab": {
          "base_uri": "https://localhost:8080/",
          "height": 34
        },
        "outputId": "4f2d6a0d-6e98-496d-edd3-8b421339c6aa"
      },
      "source": [
        "#Date Martes 21/ Julio\n",
        "a = 10\n",
        "A = {1,2,3,4,10}\n",
        "a in A                                                                          #Version 1\n",
        "for x in A                                                                      #Version 2\n",
        "  if x == a\n",
        "    print(\"True\")"
      ],
      "execution_count": null,
      "outputs": [
        {
          "output_type": "execute_result",
          "data": {
            "text/plain": [
              "True"
            ]
          },
          "metadata": {
            "tags": []
          },
          "execution_count": 7
        }
      ]
    },
    {
      "cell_type": "markdown",
      "metadata": {
        "id": "baOoB_xtjQy5",
        "colab_type": "text"
      },
      "source": [
        "Como saber si aNoϵA (si a no esta en A)"
      ]
    },
    {
      "cell_type": "code",
      "metadata": {
        "id": "FJy01V-RjVJ3",
        "colab_type": "code",
        "colab": {}
      },
      "source": [
        "#Date Martes 21/ Julio\n",
        "a = 10\n",
        "A = {1,2,3,4,10}\n",
        "a not in A"
      ],
      "execution_count": null,
      "outputs": []
    },
    {
      "cell_type": "markdown",
      "metadata": {
        "id": "cFI6zuQHtqks",
        "colab_type": "text"
      },
      "source": [
        ""
      ]
    },
    {
      "cell_type": "markdown",
      "metadata": {
        "id": "-pKT1eOws5dX",
        "colab_type": "text"
      },
      "source": [
        "Arreglos/ Listas Finitas\n",
        "\n",
        "a es un escalar => es un elemento\n",
        "{a} es un conjunto"
      ]
    },
    {
      "cell_type": "code",
      "metadata": {
        "id": "upuRXa1Ms8l2",
        "colab_type": "code",
        "colab": {}
      },
      "source": [
        "#Date Martes 21/ Julio\n",
        "[ ] A = {1,2,3,4,10}\n",
        "\n",
        "a + {a}                                                                         #unsupported operand tupe(s) for +: 'int' and 'set'"
      ],
      "execution_count": null,
      "outputs": []
    },
    {
      "cell_type": "markdown",
      "metadata": {
        "id": "ln27brSbt8UD",
        "colab_type": "text"
      },
      "source": [
        "-> {{a,b}} != {a,b}\n",
        "El de la derecha es un escalar, y el de la izquierda es un conjunto"
      ]
    },
    {
      "cell_type": "markdown",
      "metadata": {
        "id": "qxU90OL9vM7D",
        "colab_type": "text"
      },
      "source": [
        "#Date Miercoles 22/ Julio\n",
        "\n",
        "A y B son conjuntos; Todos los elementos de A son tambien elemento de B\n",
        "A ⊆ B A{1,2,3} y B{0,1,2,3,4,5,6}\n",
        "Si A⊆B y B⊆C, entonces A⊆C"
      ]
    },
    {
      "cell_type": "code",
      "metadata": {
        "id": "l9G1dH4iwIQX",
        "colab_type": "code",
        "colab": {}
      },
      "source": [
        "#Date Miercoles 22/ Julio\n",
        "A = {1,2,3}\n",
        "B = {0,1,2,3,4,5,6}\n",
        "C = {1,2,3,4,5,6,7,8,9,10}\n",
        "\n",
        "print(\"A es un subconjunto de B:\")\n",
        "print((A.issubset(B)))\n",
        "\n",
        "print(\"B es subconjunto de C:\")\n",
        "print((B.issubset(C)))\n",
        "\n",
        "print(\"A es subconjunto de C:\")\n",
        "print((A.issubset(C)))"
      ],
      "execution_count": null,
      "outputs": []
    },
    {
      "cell_type": "markdown",
      "metadata": {
        "id": "TozPy9IqwK5e",
        "colab_type": "text"
      },
      "source": [
        "∅ Conjunto Vacío\n",
        "∅⊆A, para todo conjunto A"
      ]
    },
    {
      "cell_type": "markdown",
      "metadata": {
        "id": "t9_YaNtNxZSf",
        "colab_type": "text"
      },
      "source": [
        "#Date Jueves 23/ Julio\n",
        "\n",
        "Conjunto Potencia: \n",
        "Cardinalidad del conjunto potencia\n",
        "La cardinalidad de un conjunto C es el número de elementos que lo conforman"
      ]
    },
    {
      "cell_type": "code",
      "metadata": {
        "id": "vDM_2uGYyqBP",
        "colab_type": "code",
        "colab": {
          "base_uri": "https://localhost:8080/",
          "height": 34
        },
        "outputId": "b66219d8-6be6-42f1-b344-f917f9e2b5bb"
      },
      "source": [
        "#Date Jueves 23/ Julio\n",
        "from sympy import FiniteSet\n",
        "C = FiniteSet(10,20,30)\n",
        "print(C.powerset())"
      ],
      "execution_count": null,
      "outputs": [
        {
          "output_type": "stream",
          "text": [
            "{EmptySet(), {10}, {20}, {30}, {10, 20}, {10, 30}, {20, 30}, {10, 20, 30}}\n"
          ],
          "name": "stdout"
        }
      ]
    },
    {
      "cell_type": "markdown",
      "metadata": {
        "id": "3aHgNUGGy8Yn",
        "colab_type": "text"
      },
      "source": [
        "#Date Jueves 23/ Julio\n",
        "\n",
        "Operciones con conjuntos\n",
        "Union: A ∪ B\n",
        "A∪B = {x | x∈A o x∈B}\n",
        "-> x esta en A, o esta en B o en ambos\n",
        "\n",
        "Interescció: A∩B\n",
        "A∩B = {x | x∈A y x∈B}\n",
        "-> x esta simultaneamente en A y en B"
      ]
    },
    {
      "cell_type": "markdown",
      "metadata": {
        "id": "Ro_thrKeziYH",
        "colab_type": "text"
      },
      "source": [
        "#Date Jueves 23/ Julio\n",
        "Definiciones\n",
        "\n",
        "Alfabeto: Conjunto no vacio y finito de simbolos\n",
        "\n",
        "Si ∑ es un alfabeto, ∂∈∑ denota que ∂ es un simbolo de ∑\n",
        "Si ∑ = {0,1,2,3,4,5,6,7,8}\n",
        "\n",
        "Lenguaje: Conjunto de palabras\n",
        "{1,12,132,12345,123456}\n",
        "\n",
        "Si ∑ es un alfabeto tambien es un lenguaje\n",
        "\n",
        "Lenguajes: \n",
        "Palabras correctas del ingles\n",
        "Cadenas finitas de unos {1,11,111,1111}"
      ]
    },
    {
      "cell_type": "markdown",
      "metadata": {
        "id": "P-35vy5mgB3r",
        "colab_type": "text"
      },
      "source": [
        "Semana 2\n",
        "-> Union: \n",
        "A∪B = {x | x ∈ A o x ∈ B}\n",
        "-> Interseccion: \n",
        "A∩B = {x | x ∈ A y x ∈ B}\n",
        "-> Diferencia: \n",
        "A-B = {x | x∈A y x∉B}\n",
        "-> Complemento: \n",
        "Es el conjunto conformado por todos los elementos del conjunto universal , que no pertenecen al conjunto.\n",
        "-> Sublenguaje\n",
        "sabemos que un conjunto de W es un subconjunto de U, si U contiene a todos los elementos de W y se denota como W ⊆ U, y se lee, W es un subconjunto de U. Esta definición se puede mudar perfectamente a la teoría de lenguajes, diciendo que si A y B son lenguajes, entonces B es un sublenguaje de A, si A contiene todas las cadenas de B y se denota B ⊆ A, y se lee B es un sublenguaje de A.\n",
        "-> Concatenacion: \n",
        "El lenguaje que resulta de la concatenación de A y B esta formado por la concatenación de todas la cadenas de  A con todas la cadenas de B.\n",
        "  *Ejemplo: Si A={hola,adios} y B={casa},entonces, A·B={holacasa, adioscasa}.\n",
        "-> Cerradura\n",
        "cerradura de Kleene o cerradura estrella, élla esta definida como la unión de 0 o más potencias de un lenguaje $ A$ sobre un alfabeto $ \\Sigma$, más precisamente, la cerradura de Kleene es realizar 0 o más concatenaciones del lenguaje $ A$ con él mismo, y se denota $ A^*=\\cup_{n=0}^\\infty A^n$, lo que resulta en un lenguaje que contiene todas las cadenas que son posibles de formar sobre $ \\Sigma$. También tenemos a la cerradura positiva, que es la unión de una o más potencias de $ A$ en $ \\Sigma$, resultando en un lenguaje que contiene, todas las cadenas excepto la cadena vacía $ \\varepsilon$, y se denota $ A^+=\\cup_{n=1}^\\infty A^n$."
      ]
    },
    {
      "cell_type": "markdown",
      "metadata": {
        "id": "j9KtL87DUbKf",
        "colab_type": "text"
      },
      "source": [
        "Lenguajes Regulares y Automatas\n",
        "Aquellos lenguajes cuyas cadenas esta formadas por la concatenacion de simbolos, en las cuales no hay relacion entre una parte de la cadena otra parte de la cadena. \n",
        "El objetivo es encontrar reconocedores para los lenguajes regulares. Estos reconocedores se denominan Automatas finitos. \n",
        "\n",
        "-> Automatas finitos: \n",
        "Es una quintupla M=(Q,A, d ,q0,F) en la cual: \n",
        "  *Q es un conjunto finito llamado conjunto de estados\n",
        "  *A es un alfabeto llamado alfabeto de entrada\n",
        "  *d es una aplicacion de la forma siguiente d:QxA->Q de modo que dado un estado y un simbolo del alfabeto se produce otro estado. A esta funcion se le llama funcion de la transicion.\n",
        "  *q0 es un elemento de Q, llamado estado inicial\n",
        "  *F es un subconjunto de Q, llamado conjunto de estados finales.\n",
        "El automata es un mecanismo con 2 partes:\n",
        "  1. Una caja negra de control que va evolucionando por los estados del conjunto Q en funcion del simbolo leido de la cinta\n",
        "  2. Una cinta, ilimitada por la derecha ,con una cabeza de lectura que inicialmente se situa en la casilla mas a la izquierda \n",
        "  \n",
        "  Funcionamiento: En la cinta se escribe la cadena de caracteres de la que queremos determinar si pertenece al lenguaje regular que el que se encuentre, cambia de estado y pasa a leer el siguiente simbolo. Asi hasta acabar de leer todos los simbolos de la cadena, en ese momento si el estado en que esta la flecha o cabeza de lectura es un estado final entonces ACEPTA LA CADENA. Si no es un estado final entonces RECHAZA LA CADENA, es decir, la cadena no pertenece a ese lenguaje regular. \n",
        "\n",
        "  --- Lenguaje Asociado a un automata finito ---\n",
        "\n",
        "  El lenguaje que reconoce el automata esta formado por todos aquellas cadenas que se contruyen de la siguiente forma: el automata parte de q0, lee un simbolo u cualquiera y alcanza un estado final. \n",
        "\n",
        "  --- Representacion de los automatas finitos --- \n",
        "  Existen dos formas de representar los automatas: \n",
        "    *Se representan mediante un grafo de transicion donde: \n",
        "  1. Los nodos representan estados, habrá tantos como |Q|, cada nodo estará etiquetado por un elemento de Q.\n",
        "  2. Los arcos representan las transiciones entre los estados. Se etiquetan con el simbolo que corresponde a esa transicion, \n",
        "  3. El estado inicial estara señalado mediante el simbolo ->\n",
        "  4. Los estados finales estarán señaladas mediante el simbolo *, o doble circulo alrededor de la etiqueta del estado final. \n",
        "\n",
        "  El otro modo de representar los automatas solamente se especifica la tabla de las transiciones poniendo en la primera fila el alfabeto de entrada y en la primera columna el conjunto de estados Q, de modo que para cada simbolo y estado se asocia un estado al cual se va a ir. "
      ]
    },
    {
      "cell_type": "markdown",
      "metadata": {
        "id": "0Gv-r2Xib4Lg",
        "colab_type": "text"
      },
      "source": [
        "Expresiones Regulares\n",
        "Tambien conocida como Regex, es la manera mas sencilla de describir secuencias de caracteres\n",
        "El objetivo es modificar o sustituir fragmentos de texto o lineas de codigo, cuya complejidad aumenta en funcion de las veces que la secuencia de caracteres aparece en el documento. \n",
        "\n",
        "Entonces, ¿Que es una expresion regular?\n",
        "-> Son las unidades de descripcion de los lenguajes regulares, que se incluyen en los denominados lenguajes formales. Son un instrumento clave de la infromatica teorica, establece bases para el desarrollo y la ejecucion de programas informaticos, asi como para la construccion del compilador necesario para ello.\n",
        "\n",
        "Para cada regex existe un denominado automata finito (tambien conocido como maquina de estado finito) que acepta el lenguaje especificado por la expresion y que con ayuda de la construccion de Thompson, se desarrolla a partir de una expresion regular. Por otro lado, para cada automata finito tambien hay una expresion regular que describe el lenguaje aceptado por el automata. \n",
        "\n",
        "-> Importante <-\n",
        "Un automata es un modelo de conducta formado por estados, transiciones de estado y acciones. Por tanto, se considera que es finito si la cantidad de estados que puede adoptar es finita, (es decir limitada). \n",
        "\n",
        "¿Como funcionan? \n",
        "Puede estar formada por caracteres normales (como abc), o por una combinacion de caracteres normales y metacaracteres (como ab*c). Los metacaracteres describen ciertas construcciones o disposiciones de caracteres. \n",
        "\n",
        "-> Ejemplos <-\n",
        "abc: El patronn regex sencillo abc requiere una coincidencia exacta. Por tanto, se buscaran cadenas de caracteres que no solo contengan los caracteres \"abc\", sino que tambien aparezcan en ese orden. \n",
        "\n",
        "ab*c: Estas funcinan de manera diferente, ya que no solo se buscaram coincidencias exactas, si no tambien escenarios especiales. En este caso, el asterisco hace que la busqueda se centre en cadenas de caracteres que empiecen por la letra \"a\" y que terminen por la letra \"c\" y entremedias cuenten con cualquier numero de caracteres de \"b\". Así se mostrara como coincidencia tanto \"abc\", como la cadena de caracteres \"abbbbc\" y \"cbbaabbcba\". \n",
        "\n",
        "Una expresion regular puede estar formada por hasta tres partes, independiemente del lenguaje en el que se va a utilizar. \n",
        "1. Pattern (patron de busqueda): El elemento central es el patron, el patron de busqueda general. Tal y como hemos explicado antes, se puede formar a partir de caracteres simples o a partir de una combinacion de caracteres simples y especiales. \n",
        "2. Delimiter (Delimitador): El inicio y el final del patron se identifican con delimitadores. Los delimitadores son todos los caracteres no alfanumericos (excepto la barra diagonal inversa). \n",
        "3. Modifier (Modificador): Los modificadores pueden añadirse a un patron de busqueda para modificar la expresion regular. Un ejemplo es el modificador i, el cual anula la distincion entre mayusculas y minusculas.\n",
        "\n",
        "Ejemplos: \n",
        "\n",
        "[1,2,3,4,5,6,7] En este caso los numeros son directamente consecutivos, por lo que tambien se puede hacer  [1-7]\n",
        "\n",
        "[1-7][a-c]\n",
        "Como primer elemento, ha de aparecer un numero de entre el \"1\n",
        " y el \"7\", seguido de una letra \"a\",\"b\",o \"c\". Las minusculas son obligatorioas.\n",
        "\n",
        " De esta forma podemos incluir las mayusculas: [1-7][a-cA-C]\n",
        "\n",
        " Expresiones regulares con elementos opcionales \n",
        " [1-9][0-9]?[0-9]?[a-z]? El unico elemento obligatorio de este patron de busqueda es un numero del \"1\" al \"9\". Pueden estar seguidos opcionalmente tanto por dos digitos del \"0\" al \"9\", como por una letra cualquiera. \n",
        "\n",
        "Expresion regular con una cantidad aleatoria de repticiones \n",
        "\n",
        "Los parametros necesarios son el asterisco (*) y el signo mas (+), los cuales permiten una cantidad cualquiera de repeticiones de un caracter, una clase o grupos de caracteres. Se pueden registrar todas las cadenas de caracteres que tengan una cantidad cualquiera de digitos (tambien \"cero\") -> [0-90] *\n",
        "\n",
        "Otras alternativas: \n",
        "1. Negar clases caracteres\n",
        "    -> c[^o]sa\n",
        "2. Marcador de posicion\n",
        "    -> Juan.*Apellido\n",
        "    -> Juan.+Apellido\n",
        "    -> c.sa\n",
        "3. Alternativas \n",
        "    -> casa|cosa\n",
        "    -> (Lun|Mart|Mi&#xE9;rcol|Juev|Viern)es|S&#xE1;bado|Domingo\n",
        "4. Grupos\n",
        "    -> ab(cd)+\n",
        "5. Anidamientos\n",
        "    -> (VW (Golf|Polo)|Fiat (Punto|Panda))\n",
        "6. Limite de palabra\n",
        "    -> \\bcaso\n",
        "    -> caso\\b\n",
        "    -> \\bcaso\\b\n"
      ]
    },
    {
      "cell_type": "code",
      "metadata": {
        "id": "Hl9mzZN5qNaL",
        "colab_type": "code",
        "colab": {}
      },
      "source": [
        "def dfa_evaluate(alphabet, states, initial_state, accepting_states, transitions, str_test):\n",
        "  current_state = initial_state\n",
        "  \n",
        "  for char_index in range(len(str_test)):\n",
        "    current_char = str_test[char_index]\n",
        "    next_state = transitions[(current_state, current_char)] \n",
        "    print (current_state, current_char, next_state)\n",
        "    current_state = next_state\n",
        "\n",
        "  if current_state in accepting_states:\n",
        "    print (\"Pertenece a L(M)\")\n",
        "  else: \n",
        "    print (\"No pertenece a L(M)\")\n",
        "\n",
        "\n",
        "#debe contener la subcadena 01\n",
        "dfa = {\n",
        "    'alphabet': {'0', '1'},\n",
        "    'states': {'q0', 'q1', 'q2'},\n",
        "    'initial_state': 'q0',\n",
        "    'accepting_states': {'q2'},\n",
        "    'transitions': {\n",
        "        ('q0', '1'): 'q0',\n",
        "        ('q0', '0'): 'q1',\n",
        "        ('q1', '0'): 'q1',\n",
        "        ('q1', '1'): 'q2',\n",
        "        ('q2', '0'): 'q2',\n",
        "        ('q2', '1'): 'q2'       \n",
        "    }\n",
        "}\n",
        "\n",
        "alphabet = dfa['alphabet']\n",
        "states = dfa['states']\n",
        "initial_state = dfa['initial_state']\n",
        "accepting_states = dfa['accepting_states']\n",
        "transitions = dfa['transitions']\n",
        "\n",
        "str_test = \"00001010\"\n",
        "\n",
        "dfa_evaluate(alphabet, states, initial_state, accepting_states, transitions, str_test)"
      ],
      "execution_count": null,
      "outputs": []
    },
    {
      "cell_type": "code",
      "metadata": {
        "id": "y_3piLP8vqLd",
        "colab_type": "code",
        "colab": {}
      },
      "source": [
        "def dfa_evaluate(alphabet, states, initial_state, accepting_states, transitions, str_test):\n",
        "  current_state = initial_state\n",
        "  \n",
        "  transition_exists = True\n",
        "\n",
        "  for char_index in range(len(str_test)):\n",
        "    current_char = str_test[char_index]\n",
        "    \n",
        "    if ((current_state, current_char) not in transitions):\n",
        "      transition_exists = False\n",
        "      break\n",
        "    next_state = transitions[(current_state, current_char)] \n",
        "    print (current_state, current_char, next_state)\n",
        "    current_state = next_state\n",
        "\n",
        "  if transition_exists and current_state in accepting_states:\n",
        "    print (\"Pertenece a L(M)\")\n",
        "  else: \n",
        "    print (\"No pertenece a L(M)\")\n",
        "\n",
        "\n",
        "#debe contener la subcadena 01\n",
        "dfa = {\n",
        "    'alphabet': {'0', '1'},\n",
        "    'states': {'q0', 'q1'},\n",
        "    'initial_state': 'q0',\n",
        "    'accepting_states': {'q1'},\n",
        "    'transitions': {\n",
        "        ('q0', '1'): 'q1',\n",
        "        ('q1', '0'): 'q1',\n",
        "        ('q1', '1'): 'q1'\n",
        "    }\n",
        "}\n",
        "\n",
        "alphabet = dfa['alphabet']\n",
        "states = dfa['states']\n",
        "initial_state = dfa['initial_state']\n",
        "accepting_states = dfa['accepting_states']\n",
        "transitions = dfa['transitions']\n",
        "\n",
        "str_test = \"1011010101\"\n",
        "\n",
        "dfa_evaluate(alphabet, states, initial_state, accepting_states, transitions, str_test)"
      ],
      "execution_count": null,
      "outputs": []
    },
    {
      "cell_type": "markdown",
      "metadata": {
        "id": "MY7Xd0b6qITy",
        "colab_type": "text"
      },
      "source": [
        "#Semana 3\n",
        "Operaciones sobre automatas finitos NO DETERMINISTICOS\n",
        "-> Que es un AUTOMATA FINITO NO DETERMINISTICO (AFND)\n",
        "\t* Son aquellos que tienen un numero finito de estados q0...qn donde nperteneceN, y es no deterministico porque no para todo estado y todo simbolo se tiene una accion a realizar. Es decir de un nodo no pueden salir varios arcos con la misma etiqueta y ni para un nodo existen arcos para todos los simbolos del alfabeto. \n",
        "---------------------------------------------------------------------------------------------------------------------------\n",
        "En resumen: los no deterministicos: hay al menos una arista de la cual no sale ningun proceso. En los deterministicos, de todas las aristas salen procesos. \n",
        "---------------------------------------------------------------------------------------------------------------------------\n",
        "Tipos de automatas finitos\n",
        "1. Automatas finitos deterministicos (AFD)\n",
        "2. Automatas finitos no deterministicos (AFND\n",
        "\n",
        "-> Que es un AUTOMATA FINITO DETERMINISTICO (AFD)\n",
        "Son aquellos que tienen un numero finito de estados q0...qn donde n pertenece N. Dentro de estos automatas llamaremos automata finito deterministico minimal a aquel que tiene el menor numero de estados posibles y sigue reconociendo las cadenas del lenguaje regular. \n"
      ]
    },
    {
      "cell_type": "code",
      "metadata": {
        "id": "nxG8DF_krtQh",
        "colab_type": "code",
        "colab": {}
      },
      "source": [
        "def dfa_evaluate(alphabet, states, initial_state, accepting_states, transitions, str_test):\n",
        "  current_state = initial_state\n",
        "  \n",
        "  for char_index in range(len(str_test)):\n",
        "    current_char = str_test[char_index]\n",
        "    next_state = transitions[(current_state, current_char)] \n",
        "    print (current_state, current_char, next_state)\n",
        "    current_state = next_state\n",
        "\n",
        "  if current_state in accepting_states:\n",
        "    print (\"Pertenece a L(M)\")\n",
        "  else: \n",
        "    print (\"No pertenece a L(M)\")\n",
        "\n",
        "\n",
        "#debe contener la subcadena 01\n",
        "dfa = {\n",
        "    'alphabet': {'a', 'b'},\n",
        "    'states': {'q0', 'q1', 'q2'},\n",
        "    'initial_state': 'q0',\n",
        "    'accepting_states': {'q2'},\n",
        "    'transitions': {\n",
        "        ('q0', 'a'): 'q1',\n",
        "        ('q0', 'b'): 'q2',\n",
        "        ('q1', 'a'): 'q1',\n",
        "        ('q1', 'b'): 'q2',\n",
        "        ('q2', 'a'): 'q1',\n",
        "        ('q2', 'b'): 'q0'       \n",
        "    }\n",
        "}\n",
        "\n",
        "alphabet = dfa['alphabet']\n",
        "states = dfa['states']\n",
        "initial_state = dfa['initial_state']\n",
        "accepting_states = dfa['accepting_states']\n",
        "transitions = dfa['transitions']\n",
        "\n",
        "str_test = \"ababab\"\n",
        "\n",
        "dfa_evaluate(alphabet, states, initial_state, accepting_states, transitions, str_test)"
      ],
      "execution_count": null,
      "outputs": []
    },
    {
      "cell_type": "markdown",
      "metadata": {
        "id": "_hqN_62JsMj5",
        "colab_type": "text"
      },
      "source": [
        "#Automata finito no deterministico"
      ]
    },
    {
      "cell_type": "code",
      "metadata": {
        "id": "jkDD6MndsQUv",
        "colab_type": "code",
        "colab": {}
      },
      "source": [
        "def dfa_evaluate(alphabet, states, initial_state, accepting_states, transitions, str_test):\n",
        "  current_state = initial_state\n",
        "  \n",
        "  for char_index in range(len(str_test)):\n",
        "    current_char = str_test[char_index]\n",
        "    next_state = transitions[(current_state, current_char)] \n",
        "    print (current_state, current_char, next_state)\n",
        "    current_state = next_state\n",
        "\n",
        "  if current_state in accepting_states:\n",
        "    print (\"Pertenece a L(M)\")\n",
        "  else: \n",
        "    print (\"No pertenece a L(M)\")\n",
        "\n",
        "\n",
        "#debe contener la subcadena 01\n",
        "dfa = {\n",
        "    'alphabet': {'a', 'b','c'},\n",
        "    'states': {'q0', 'q1', 'q2'},\n",
        "    'initial_state': 'q0',\n",
        "    'accepting_states': {'q2'},\n",
        "    'transitions': {\n",
        "        ('q0', 'a'): 'q1',\n",
        "        ('q1', 'b'): 'q1',\n",
        "        ('q1', 'c'): 'q2'   \n",
        "    }\n",
        "}\n",
        "\n",
        "alphabet = dfa['alphabet']\n",
        "states = dfa['states']\n",
        "initial_state = dfa['initial_state']\n",
        "accepting_states = dfa['accepting_states']\n",
        "transitions = dfa['transitions']\n",
        "\n",
        "str_test = \"abbc\"\n",
        "\n",
        "dfa_evaluate(alphabet, states, initial_state, accepting_states, transitions, str_test)"
      ],
      "execution_count": null,
      "outputs": []
    },
    {
      "cell_type": "markdown",
      "metadata": {
        "id": "iyHvgO8Ns8o8",
        "colab_type": "text"
      },
      "source": [
        "#Automata finito deterministico"
      ]
    },
    {
      "cell_type": "code",
      "metadata": {
        "id": "-KKdjKDysyH1",
        "colab_type": "code",
        "colab": {}
      },
      "source": [
        "def dfa_evaluate(alphabet, states, initial_state, accepting_states, transitions, str_test):\n",
        "  current_state = initial_state\n",
        "  \n",
        "  for char_index in range(len(str_test)):\n",
        "    current_char = str_test[char_index]\n",
        "    next_state = transitions[(current_state, current_char)] \n",
        "    print (current_state, current_char, next_state)\n",
        "    current_state = next_state\n",
        "\n",
        "  if current_state in accepting_states:\n",
        "    print (\"Pertenece a L(M)\")\n",
        "  else: \n",
        "    print (\"No pertenece a L(M)\")\n",
        "\n",
        "\n",
        "#debe contener la subcadena 01\n",
        "dfa = {\n",
        "    'alphabet': {'a', 'b','c'},\n",
        "    'states': {'q0', 'q1', 'q2','q3'},\n",
        "    'initial_state': 'q0',\n",
        "    'accepting_states': {'q2'},\n",
        "    'transitions': {\n",
        "        ('q0', 'a'): 'q1',\n",
        "        ('q0', 'b'): 'q3',\n",
        "        ('q0', 'c'): 'q3',\n",
        "        ('q1', 'b'): 'q1',\n",
        "        ('q1', 'c'): 'q2',\n",
        "        ('q1', 'a'): 'q3',\n",
        "        ('q2', 'a'): 'q3',\n",
        "        ('q2', 'b'): 'q3',\n",
        "        ('q2', 'c'): 'q3',\n",
        "        ('q3', 'a'): 'q3',\n",
        "        ('q3', 'b'): 'q3',\n",
        "        ('q3', 'c'): 'q3'    \n",
        "    }\n",
        "}\n",
        "\n",
        "alphabet = dfa['alphabet']\n",
        "states = dfa['states']\n",
        "initial_state = dfa['initial_state']\n",
        "accepting_states = dfa['accepting_states']\n",
        "transitions = dfa['transitions']\n",
        "\n",
        "str_test = \"acb\"\n",
        "\n",
        "dfa_evaluate(alphabet, states, initial_state, accepting_states, transitions, str_test)"
      ],
      "execution_count": null,
      "outputs": []
    }
  ]
}